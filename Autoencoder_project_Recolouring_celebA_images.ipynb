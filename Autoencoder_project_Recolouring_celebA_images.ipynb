{
  "nbformat": 4,
  "nbformat_minor": 0,
  "metadata": {
    "kernelspec": {
      "name": "python3",
      "display_name": "Python 3",
      "language": "python"
    },
    "colab": {
      "name": "Autoencoder project - Recolouring celebA images.ipynb",
      "provenance": [],
      "collapsed_sections": [],
      "include_colab_link": true
    },
    "accelerator": "GPU"
  },
  "cells": [
    {
      "cell_type": "markdown",
      "metadata": {
        "id": "view-in-github",
        "colab_type": "text"
      },
      "source": [
        "<a href=\"https://colab.research.google.com/github/NeerajGithubIITM/Autoencoder/blob/main/Autoencoder_project_Recolouring_celebA_images.ipynb\" target=\"_parent\"><img src=\"https://colab.research.google.com/assets/colab-badge.svg\" alt=\"Open In Colab\"/></a>"
      ]
    },
    {
      "cell_type": "code",
      "metadata": {
        "colab": {
          "base_uri": "https://localhost:8080/"
        },
        "id": "okTSGxhkNkGt",
        "outputId": "43d2a7d6-0e45-4ed4-a287-de3a08d41ed6"
      },
      "source": [
        "from google.colab import drive, files\n",
        "#drive.flush_and_unmount()\n",
        "drive.mount('/content/drive/')"
      ],
      "execution_count": null,
      "outputs": [
        {
          "output_type": "stream",
          "text": [
            "Mounted at /content/drive/\n"
          ],
          "name": "stdout"
        }
      ]
    },
    {
      "cell_type": "code",
      "metadata": {
        "id": "6IRIY-hBwsw2"
      },
      "source": [
        "# Import necessary libraries\n",
        "\n",
        "import tensorflow as tf\n",
        "from tensorflow.keras.layers import Conv2D, UpSampling2D, InputLayer, Conv2DTranspose, Activation, Dense, Dropout, Flatten, BatchNormalization,Reshape, Input, ZeroPadding2D\n",
        "from tensorflow.keras.models import Sequential, Model\n",
        "from tensorflow.keras.preprocessing.image import  array_to_img, img_to_array, load_img\n",
        "from tensorflow.keras.optimizers import Adam\n",
        "from tensorflow.keras.applications import VGG19\n",
        "from tensorflow.keras.applications.resnet50 import preprocess_input\n",
        "\n",
        "\n",
        "\n",
        "from skimage.color import rgb2lab, lab2rgb, rgb2gray\n",
        "\n",
        "import numpy as np\n",
        "import zipfile\n",
        "import os\n",
        "import random\n",
        "import matplotlib.pyplot as plt"
      ],
      "execution_count": null,
      "outputs": []
    },
    {
      "cell_type": "code",
      "metadata": {
        "id": "4n4CPJ5BOA5e"
      },
      "source": [
        "zip_path = \"/content/drive/MyDrive/img_align_celeba.zip\"\n",
        "zip_ref = zipfile.ZipFile(zip_path, 'r')\n",
        "zip_ref.extractall('/tmp')\n",
        "zip_ref.close()\n",
        "\n",
        "dataset = os.listdir('/tmp/img_align_celeba')"
      ],
      "execution_count": null,
      "outputs": []
    },
    {
      "cell_type": "code",
      "metadata": {
        "id": "6lQJQEiOVEf_"
      },
      "source": [
        "images = []\n",
        "X = []\n",
        "Y = []\n",
        "\n",
        "for img in dataset[2048:4096]:\n",
        "  # image = img_to_array(load_img('/tmp/img_align_celeba/' + img))\n",
        "  # images.append(image)\n",
        "\n",
        "  x = rgb2lab(1.0/255*img_to_array(load_img('/tmp/img_align_celeba/' + img)))[:,:,0]\n",
        "  X.append(x)\n",
        "\n",
        "  y = rgb2lab(1.0/255*img_to_array(load_img('/tmp/img_align_celeba/' + img)))[:,:,1:]\n",
        "  Y.append(y)"
      ],
      "execution_count": null,
      "outputs": []
    },
    {
      "cell_type": "code",
      "metadata": {
        "id": "rkM2tKyHrl3N"
      },
      "source": [
        "# for img in images:\n",
        "#   x = rgb2lab(1.0/255*img)[:,:,0]\n",
        "#   X.append(x)"
      ],
      "execution_count": null,
      "outputs": []
    },
    {
      "cell_type": "code",
      "metadata": {
        "id": "hnbyigA_bFMA"
      },
      "source": [
        "# for img in images:\n",
        "#   y = rgb2lab(1.0/255*img)[:,:,1:]\n",
        "#   Y.append(y)"
      ],
      "execution_count": null,
      "outputs": []
    },
    {
      "cell_type": "code",
      "metadata": {
        "id": "AXWycQmYhEBL"
      },
      "source": [
        "X_train = np.expand_dims(np.asarray(X), axis = -1)\n",
        "Y_train = np.asarray(Y)"
      ],
      "execution_count": null,
      "outputs": []
    },
    {
      "cell_type": "code",
      "metadata": {
        "id": "RM1scLPJwsxE"
      },
      "source": [
        "# model = Sequential([\n",
        "#     Input(shape = (218,178,1)),\n",
        "#     Conv2D(8, kernel_size = (3,3), strides = (2,2), padding = 'same', activation = 'relu'),\n",
        "#     Conv2D(8, kernel_size = (3,3), strides = (1,1), padding = 'same', activation = 'relu'),\n",
        "#     Conv2D(16, kernel_size = (3,3), strides = (1,1), padding = 'same', activation = 'relu'),\n",
        "#     Conv2D(16, kernel_size = (3,3), strides = (2,2), padding = 'same', activation = 'relu'),\n",
        "#     Conv2D(32, kernel_size = (3,3), strides = (1,1), padding = 'same', activation = 'relu'),\n",
        "#     Conv2D(32, kernel_size = (3,3), strides = (2,2), padding = 'same', activation = 'relu'),\n",
        "#     UpSampling2D(size=(2,2)),\n",
        "#     Conv2D(32, kernel_size = (3,3), strides = (1,1), padding = 'same', activation = 'relu'),\n",
        "#     UpSampling2D(size=(2,2)),\n",
        "#     Conv2D(16, kernel_size = (3,3), strides = (1,1), padding = 'valid', activation = 'relu'),\n",
        "#     UpSampling2D(size=(2,2)),\n",
        "#     Conv2D(2, kernel_size = (3,3), strides = (1,1), padding = 'valid', activation = 'relu')\n",
        "# ])"
      ],
      "execution_count": null,
      "outputs": []
    },
    {
      "cell_type": "code",
      "metadata": {
        "id": "5mwn9gX3wsxE"
      },
      "source": [
        "# model.summary()"
      ],
      "execution_count": null,
      "outputs": []
    },
    {
      "cell_type": "code",
      "metadata": {
        "id": "uB0RkAjvwsxF"
      },
      "source": [
        "# model.compile(optimizer = Adam(lr = 0.001), loss = 'mse')\n",
        "# history = model.fit(X_train, Y_train, batch_size = 64, epochs = 25)"
      ],
      "execution_count": null,
      "outputs": []
    },
    {
      "cell_type": "code",
      "metadata": {
        "id": "W0Ixx_Ll3fN_"
      },
      "source": [
        "# loss = history.history['loss']\n",
        "\n",
        "# epochs = range(len(loss))\n",
        "\n",
        "# plt.plot(epochs, loss, 'r', label='Training Loss')\n",
        "# plt.title('Training loss')\n",
        "# plt.legend()\n",
        "\n",
        "# plt.show()"
      ],
      "execution_count": null,
      "outputs": []
    },
    {
      "cell_type": "code",
      "metadata": {
        "id": "UNdwRtZKkke6"
      },
      "source": [
        "# model.save('model2.h5')"
      ],
      "execution_count": null,
      "outputs": []
    },
    {
      "cell_type": "code",
      "metadata": {
        "colab": {
          "base_uri": "https://localhost:8080/"
        },
        "id": "cqYe6YAt4vCX",
        "outputId": "3c392693-1d34-440c-9de1-f8655d79edb1"
      },
      "source": [
        "VGG_model = VGG19(include_top = False, input_shape = (218, 178, 3))\n",
        "# VGG_model.summary()"
      ],
      "execution_count": null,
      "outputs": [
        {
          "output_type": "stream",
          "text": [
            "Downloading data from https://storage.googleapis.com/tensorflow/keras-applications/vgg19/vgg19_weights_tf_dim_ordering_tf_kernels_notop.h5\n",
            "80142336/80134624 [==============================] - 0s 0us/step\n"
          ],
          "name": "stdout"
        }
      ]
    },
    {
      "cell_type": "code",
      "metadata": {
        "colab": {
          "base_uri": "https://localhost:8080/"
        },
        "id": "h5BFZ-3Q9nDz",
        "outputId": "efdb8987-a669-4706-9233-3e5573e2ef53"
      },
      "source": [
        "decoder_model = Sequential([Input(shape = (218,178,1)),\n",
        "                            Conv2D(3, kernel_size = (3,3), strides = (1,1), padding = 'same', activation = 'relu')])\n",
        "\n",
        "for layer in VGG_model.layers[1:15]: \n",
        "  decoder_model.add(layer)\n",
        "for layer in decoder_model.layers:\n",
        "  layer.trainable = False\n",
        "decoder_model.layers[0].trainable = True\n",
        "\n",
        "decoder_model.summary()"
      ],
      "execution_count": null,
      "outputs": [
        {
          "output_type": "stream",
          "text": [
            "Model: \"sequential\"\n",
            "_________________________________________________________________\n",
            "Layer (type)                 Output Shape              Param #   \n",
            "=================================================================\n",
            "conv2d (Conv2D)              (None, 218, 178, 3)       30        \n",
            "_________________________________________________________________\n",
            "block1_conv1 (Conv2D)        (None, 218, 178, 64)      1792      \n",
            "_________________________________________________________________\n",
            "block1_conv2 (Conv2D)        (None, 218, 178, 64)      36928     \n",
            "_________________________________________________________________\n",
            "block1_pool (MaxPooling2D)   (None, 109, 89, 64)       0         \n",
            "_________________________________________________________________\n",
            "block2_conv1 (Conv2D)        (None, 109, 89, 128)      73856     \n",
            "_________________________________________________________________\n",
            "block2_conv2 (Conv2D)        (None, 109, 89, 128)      147584    \n",
            "_________________________________________________________________\n",
            "block2_pool (MaxPooling2D)   (None, 54, 44, 128)       0         \n",
            "_________________________________________________________________\n",
            "block3_conv1 (Conv2D)        (None, 54, 44, 256)       295168    \n",
            "_________________________________________________________________\n",
            "block3_conv2 (Conv2D)        (None, 54, 44, 256)       590080    \n",
            "_________________________________________________________________\n",
            "block3_conv3 (Conv2D)        (None, 54, 44, 256)       590080    \n",
            "_________________________________________________________________\n",
            "block3_conv4 (Conv2D)        (None, 54, 44, 256)       590080    \n",
            "_________________________________________________________________\n",
            "block3_pool (MaxPooling2D)   (None, 27, 22, 256)       0         \n",
            "_________________________________________________________________\n",
            "block4_conv1 (Conv2D)        (None, 27, 22, 512)       1180160   \n",
            "_________________________________________________________________\n",
            "block4_conv2 (Conv2D)        (None, 27, 22, 512)       2359808   \n",
            "_________________________________________________________________\n",
            "block4_conv3 (Conv2D)        (None, 27, 22, 512)       2359808   \n",
            "=================================================================\n",
            "Total params: 8,225,374\n",
            "Trainable params: 30\n",
            "Non-trainable params: 8,225,344\n",
            "_________________________________________________________________\n"
          ],
          "name": "stdout"
        }
      ]
    },
    {
      "cell_type": "code",
      "metadata": {
        "colab": {
          "base_uri": "https://localhost:8080/"
        },
        "id": "dd9UP281IXH5",
        "outputId": "84cad893-2adc-499e-eadb-559f8bb2369d"
      },
      "source": [
        "encoder_model = decoder_model.output\n",
        "\n",
        "encoder_model = ZeroPadding2D(1)(encoder_model)\n",
        "encoder_model = Conv2D(512, kernel_size = (2,2), strides = (1,1), padding = 'valid', activation = 'relu')(encoder_model)\n",
        "encoder_model = Conv2D(512, kernel_size = (3,3), strides = (1,1), padding = 'same', activation = 'relu')(encoder_model)\n",
        "encoder_model = BatchNormalization()(encoder_model)\n",
        "encoder_model = Conv2D(512, kernel_size = (3,3), strides = (1,1), padding = 'same', activation = 'relu')(encoder_model)\n",
        "\n",
        "\n",
        "encoder_model = UpSampling2D(size=(2,2))(encoder_model)\n",
        "encoder_model = Conv2D(256, kernel_size = (3,3), strides = (1,1), padding = 'same', activation = 'relu')(encoder_model)\n",
        "encoder_model = Conv2D(256, kernel_size = (3,3), strides = (1,1), padding = 'same', activation = 'relu')(encoder_model)\n",
        "encoder_model = BatchNormalization()(encoder_model)\n",
        "encoder_model = Conv2D(256, kernel_size = (3,3), strides = (1,1), padding = 'same', activation = 'relu')(encoder_model)\n",
        "\n",
        "\n",
        "encoder_model = UpSampling2D(size=(2,2))(encoder_model)\n",
        "encoder_model = Conv2D(128, kernel_size = (3,3), strides = (1,1), padding = 'same', activation = 'relu')(encoder_model)\n",
        "encoder_model = BatchNormalization()(encoder_model)\n",
        "encoder_model = Conv2D(128, kernel_size = (3,3), strides = (1,1), padding = 'same', activation = 'relu')(encoder_model)\n",
        "\n",
        "\n",
        "encoder_model = UpSampling2D(size=(2,2))(encoder_model)\n",
        "encoder_model = Conv2D(64, kernel_size = (3,3), strides = (1,1), padding = 'valid', activation = 'relu')(encoder_model)\n",
        "encoder_model = BatchNormalization()(encoder_model)\n",
        "encoder_model = Conv2D(64, kernel_size = (3,3), strides = (1,1), padding = 'valid', activation = 'relu')(encoder_model)\n",
        "\n",
        "\n",
        "encoder_model = Conv2D(2, kernel_size = (3,3), strides = (1,1), padding = 'valid', activation = 'relu')(encoder_model)\n",
        "\n",
        "\n",
        " \n",
        "auto_encoder = Model(inputs = decoder_model.input, outputs = encoder_model)    \n",
        "auto_encoder.summary()    "
      ],
      "execution_count": null,
      "outputs": [
        {
          "output_type": "stream",
          "text": [
            "Model: \"model\"\n",
            "_________________________________________________________________\n",
            "Layer (type)                 Output Shape              Param #   \n",
            "=================================================================\n",
            "input_2 (InputLayer)         [(None, 218, 178, 1)]     0         \n",
            "_________________________________________________________________\n",
            "conv2d (Conv2D)              (None, 218, 178, 3)       30        \n",
            "_________________________________________________________________\n",
            "block1_conv1 (Conv2D)        (None, 218, 178, 64)      1792      \n",
            "_________________________________________________________________\n",
            "block1_conv2 (Conv2D)        (None, 218, 178, 64)      36928     \n",
            "_________________________________________________________________\n",
            "block1_pool (MaxPooling2D)   (None, 109, 89, 64)       0         \n",
            "_________________________________________________________________\n",
            "block2_conv1 (Conv2D)        (None, 109, 89, 128)      73856     \n",
            "_________________________________________________________________\n",
            "block2_conv2 (Conv2D)        (None, 109, 89, 128)      147584    \n",
            "_________________________________________________________________\n",
            "block2_pool (MaxPooling2D)   (None, 54, 44, 128)       0         \n",
            "_________________________________________________________________\n",
            "block3_conv1 (Conv2D)        (None, 54, 44, 256)       295168    \n",
            "_________________________________________________________________\n",
            "block3_conv2 (Conv2D)        (None, 54, 44, 256)       590080    \n",
            "_________________________________________________________________\n",
            "block3_conv3 (Conv2D)        (None, 54, 44, 256)       590080    \n",
            "_________________________________________________________________\n",
            "block3_conv4 (Conv2D)        (None, 54, 44, 256)       590080    \n",
            "_________________________________________________________________\n",
            "block3_pool (MaxPooling2D)   (None, 27, 22, 256)       0         \n",
            "_________________________________________________________________\n",
            "block4_conv1 (Conv2D)        (None, 27, 22, 512)       1180160   \n",
            "_________________________________________________________________\n",
            "block4_conv2 (Conv2D)        (None, 27, 22, 512)       2359808   \n",
            "_________________________________________________________________\n",
            "block4_conv3 (Conv2D)        (None, 27, 22, 512)       2359808   \n",
            "_________________________________________________________________\n",
            "zero_padding2d (ZeroPadding2 (None, 29, 24, 512)       0         \n",
            "_________________________________________________________________\n",
            "conv2d_1 (Conv2D)            (None, 28, 23, 512)       1049088   \n",
            "_________________________________________________________________\n",
            "conv2d_2 (Conv2D)            (None, 28, 23, 512)       2359808   \n",
            "_________________________________________________________________\n",
            "batch_normalization (BatchNo (None, 28, 23, 512)       2048      \n",
            "_________________________________________________________________\n",
            "conv2d_3 (Conv2D)            (None, 28, 23, 512)       2359808   \n",
            "_________________________________________________________________\n",
            "up_sampling2d (UpSampling2D) (None, 56, 46, 512)       0         \n",
            "_________________________________________________________________\n",
            "conv2d_4 (Conv2D)            (None, 56, 46, 256)       1179904   \n",
            "_________________________________________________________________\n",
            "conv2d_5 (Conv2D)            (None, 56, 46, 256)       590080    \n",
            "_________________________________________________________________\n",
            "batch_normalization_1 (Batch (None, 56, 46, 256)       1024      \n",
            "_________________________________________________________________\n",
            "conv2d_6 (Conv2D)            (None, 56, 46, 256)       590080    \n",
            "_________________________________________________________________\n",
            "up_sampling2d_1 (UpSampling2 (None, 112, 92, 256)      0         \n",
            "_________________________________________________________________\n",
            "conv2d_7 (Conv2D)            (None, 112, 92, 128)      295040    \n",
            "_________________________________________________________________\n",
            "batch_normalization_2 (Batch (None, 112, 92, 128)      512       \n",
            "_________________________________________________________________\n",
            "conv2d_8 (Conv2D)            (None, 112, 92, 128)      147584    \n",
            "_________________________________________________________________\n",
            "up_sampling2d_2 (UpSampling2 (None, 224, 184, 128)     0         \n",
            "_________________________________________________________________\n",
            "conv2d_9 (Conv2D)            (None, 222, 182, 64)      73792     \n",
            "_________________________________________________________________\n",
            "batch_normalization_3 (Batch (None, 222, 182, 64)      256       \n",
            "_________________________________________________________________\n",
            "conv2d_10 (Conv2D)           (None, 220, 180, 64)      36928     \n",
            "_________________________________________________________________\n",
            "conv2d_11 (Conv2D)           (None, 218, 178, 2)       1154      \n",
            "=================================================================\n",
            "Total params: 16,912,480\n",
            "Trainable params: 8,685,216\n",
            "Non-trainable params: 8,227,264\n",
            "_________________________________________________________________\n"
          ],
          "name": "stdout"
        }
      ]
    },
    {
      "cell_type": "code",
      "metadata": {
        "colab": {
          "base_uri": "https://localhost:8080/"
        },
        "id": "KlRLo80PNGws",
        "outputId": "869ca1a5-4b94-4e2b-c114-7c30336cafa0"
      },
      "source": [
        "auto_encoder.compile(optimizer = Adam(lr = 0.001), loss = 'mse')\n",
        "history2 = auto_encoder.fit(X_train, Y_train, batch_size = 128, epochs = 100)"
      ],
      "execution_count": null,
      "outputs": [
        {
          "output_type": "stream",
          "text": [
            "Epoch 1/100\n"
          ],
          "name": "stdout"
        }
      ]
    },
    {
      "cell_type": "code",
      "metadata": {
        "id": "ctiUKGCcNTBJ",
        "colab": {
          "base_uri": "https://localhost:8080/",
          "height": 281
        },
        "outputId": "20667e31-7ba1-48ab-9999-90a5c2b4f24c"
      },
      "source": [
        "loss = history2.history['loss']\n",
        "loss.pop(0)\n",
        "\n",
        "epochs = range(len(loss))\n",
        "\n",
        "plt.plot(epochs, loss, 'r', label='Training Loss')\n",
        "plt.title('Training loss')\n",
        "plt.legend()\n",
        "\n",
        "plt.show()"
      ],
      "execution_count": null,
      "outputs": [
        {
          "output_type": "display_data",
          "data": {
            "image/png": "[encoded data removed]",
            "text/plain": [
              "<Figure size 432x288 with 1 Axes>"
            ]
          },
          "metadata": {
            "tags": [],
            "needs_background": "light"
          }
        }
      ]
    },
    {
      "cell_type": "code",
      "metadata": {
        "id": "zCloMvXOTGem"
      },
      "source": [
        "auto_encoder.save('auto_encoder4.h5')"
      ],
      "execution_count": null,
      "outputs": []
    },
    {
      "cell_type": "code",
      "metadata": {
        "id": "OqoN7-CMgHDu",
        "colab": {
          "base_uri": "https://localhost:8080/",
          "height": 17
        },
        "outputId": "ea86d7ad-fffd-482b-e983-6558f1a00215"
      },
      "source": [
        "from google.colab import files\n",
        "files.download('auto_encoder4.h5')"
      ],
      "execution_count": null,
      "outputs": [
        {
          "output_type": "display_data",
          "data": {
            "application/javascript": [
              "\n",
              "    async function download(id, filename, size) {\n",
              "      if (!google.colab.kernel.accessAllowed) {\n",
              "        return;\n",
              "      }\n",
              "      const div = document.createElement('div');\n",
              "      const label = document.createElement('label');\n",
              "      label.textContent = `Downloading \"${filename}\": `;\n",
              "      div.appendChild(label);\n",
              "      const progress = document.createElement('progress');\n",
              "      progress.max = size;\n",
              "      div.appendChild(progress);\n",
              "      document.body.appendChild(div);\n",
              "\n",
              "      const buffers = [];\n",
              "      let downloaded = 0;\n",
              "\n",
              "      const channel = await google.colab.kernel.comms.open(id);\n",
              "      // Send a message to notify the kernel that we're ready.\n",
              "      channel.send({})\n",
              "\n",
              "      for await (const message of channel.messages) {\n",
              "        // Send a message to notify the kernel that we're ready.\n",
              "        channel.send({})\n",
              "        if (message.buffers) {\n",
              "          for (const buffer of message.buffers) {\n",
              "            buffers.push(buffer);\n",
              "            downloaded += buffer.byteLength;\n",
              "            progress.value = downloaded;\n",
              "          }\n",
              "        }\n",
              "      }\n",
              "      const blob = new Blob(buffers, {type: 'application/binary'});\n",
              "      const a = document.createElement('a');\n",
              "      a.href = window.URL.createObjectURL(blob);\n",
              "      a.download = filename;\n",
              "      div.appendChild(a);\n",
              "      a.click();\n",
              "      div.remove();\n",
              "    }\n",
              "  "
            ],
            "text/plain": [
              "<IPython.core.display.Javascript object>"
            ]
          },
          "metadata": {
            "tags": []
          }
        },
        {
          "output_type": "display_data",
          "data": {
            "application/javascript": [
              "download(\"download_fece509f-4689-4038-9c62-b20537f143ae\", \"auto_encoder4.h5\", 137334984)"
            ],
            "text/plain": [
              "<IPython.core.display.Javascript object>"
            ]
          },
          "metadata": {
            "tags": []
          }
        }
      ]
    },
    {
      "cell_type": "code",
      "metadata": {
        "id": "62N8EDy1ilFU"
      },
      "source": [
        "def upload_and_predict(model):\n",
        "\n",
        "  uploaded=files.upload()\n",
        "\n",
        "  n = len(uploaded)\n",
        "  i = 1\n",
        "  plt.figure(figsize=(15, 5*n))\n",
        "\n",
        "  for fn in uploaded.keys():\n",
        " \n",
        "    path='/content/' + fn\n",
        "    img=load_img(path, target_size=(218, 178))\n",
        "  \n",
        "    x_star=img_to_array(img)\n",
        "    x = rgb2lab(1.0/255*x_star)[:,:,0]\n",
        "\n",
        "    x = np.expand_dims(x, axis=0)\n",
        "\n",
        "    pred = model.predict(np.expand_dims(x, axis = -1))\n",
        "    recon_image = np.concatenate((np.expand_dims(x, axis = -1), pred), axis = -1)\n",
        "\n",
        "    plt.subplot(n, 3, i)\n",
        "    plt.imshow(img)\n",
        "    plt.title('Original Image')\n",
        "\n",
        "    plt.subplot(n, 3, i+1)\n",
        "    plt.imshow(x[0], cmap = 'gray')\n",
        "    plt.title('Grayscaled Image')\n",
        "\n",
        "    plt.subplot(n, 3, i+2)\n",
        "    plt.imshow(lab2rgb(recon_image[0]))\n",
        "    plt.title('Re-Coloured Image')\n",
        "\n",
        "    i+=3"
      ],
      "execution_count": null,
      "outputs": []
    },
    {
      "cell_type": "code",
      "metadata": {
        "id": "vz4PF0qibAWC"
      },
      "source": [
        ""
      ],
      "execution_count": null,
      "outputs": []
    }
  ]
}